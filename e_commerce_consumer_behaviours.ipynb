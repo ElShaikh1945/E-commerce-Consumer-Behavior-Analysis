{
  "nbformat": 4,
  "nbformat_minor": 0,
  "metadata": {
    "colab": {
      "provenance": []
    },
    "kernelspec": {
      "name": "python3",
      "display_name": "Python 3"
    },
    "language_info": {
      "name": "python"
    }
  },
  "cells": [
    {
      "cell_type": "markdown",
      "source": [
        "# **E-commerce Consumer Behavior Analysis: Insights and Strategies**  \n",
        "\n",
        "---\n",
        "\n",
        "\n",
        "**Objective:** Analyze consumer behavior in e-commerce using a Kaggle dataset to uncover trends and optimize business strategies.  \n",
        "\n",
        "**Key Insights:**  \n",
        "* **Peak shopping days:** Tuesday is the most active day, with a noticeable drop in activity on weekends (Saturday and Sunday).  \n",
        "* **Top-spending customers and regions:** Andhra Pradesh and Gujarat lead in order volumes, with specific customers showing significantly higher spending patterns.  \n",
        "* **Preferred payment methods:** Credit cards and UPI are the most popular, with higher average order values compared to other methods.  \n",
        "* **Cross-selling opportunities:** Furniture & Decor, Bed, Bath & Table, and Health & Beauty are among the top product combinations frequently purchased together.  \n",
        "\n",
        "**Recommendations:**  \n",
        "* **Optimize marketing campaigns:** Focus on peak shopping days (Tuesday and Wednesday) and high-order regions (e.g., Andhra Pradesh and Gujarat).  \n",
        "* **Promote preferred payment methods:** Offer discounts, installment services, and partnerships with banks to encourage the use of credit cards and UPI.  \n",
        "* **Enhance customer experience on less active days:** Implement special promotions and improve the shopping experience on weekends to boost sales.  \n",
        "* **Leverage cross-selling opportunities:** Create promotional bundles and improve product recommendation algorithms based on common product combinations.  \n",
        "* **Analyze low-performing regions and months:** Investigate the reasons behind low sales in certain regions (e.g., low-order areas) and months (e.g., September) to develop targeted strategies.  \n",
        "\n",
        "**Tools Used:**  \n",
        "* Python for data analysis.  \n",
        "* Pandas for data cleaning and manipulation.  \n",
        "* Matplotlib for data visualization.  \n",
        "\n",
        "**Outcome:**  \n",
        "* Data-driven strategies to boost sales and enhance customer satisfaction.  \n",
        "* Actionable insights for e-commerce businesses to optimize operations, improve marketing effectiveness, and increase customer retention."
      ],
      "metadata": {
        "id": "4ozmepjNXoxd"
      }
    },
    {
      "cell_type": "markdown",
      "source": [
        "# **Importing the DATASET and LIBRARIES**"
      ],
      "metadata": {
        "id": "WdO0Bvre5OO3"
      }
    },
    {
      "cell_type": "code",
      "execution_count": 53,
      "metadata": {
        "colab": {
          "base_uri": "https://localhost:8080/"
        },
        "id": "FPIzoaSu48rY",
        "outputId": "b13c9528-f8da-468e-e674-5cbf0e6b2b61"
      },
      "outputs": [
        {
          "output_type": "stream",
          "name": "stdout",
          "text": [
            "Path to dataset files: /root/.cache/kagglehub/datasets/bashiralam1709/e-commerce-project-marketing-analytics/versions/1\n"
          ]
        }
      ],
      "source": [
        "import kagglehub\n",
        "path = kagglehub.dataset_download(\"bashiralam1709/e-commerce-project-marketing-analytics\")\n",
        "print(\"Path to dataset files:\", path)"
      ]
    },
    {
      "cell_type": "code",
      "source": [
        "import os\n",
        "import pandas as pd\n",
        "import matplotlib.pyplot as plt\n",
        "from itertools import combinations\n",
        "from collections import Counter"
      ],
      "metadata": {
        "id": "ZjoDziqf6L4R"
      },
      "execution_count": 54,
      "outputs": []
    },
    {
      "cell_type": "markdown",
      "source": [
        "#**Gathering Data**"
      ],
      "metadata": {
        "id": "rT5XGgHQ802A"
      }
    },
    {
      "cell_type": "code",
      "source": [
        "for dirname, _, filenames in os.walk('/root/.cache/kagglehub/datasets/bashiralam1709/e-commerce-project-marketing-analytics/versions/1'):\n",
        "    for filename in filenames:\n",
        "        print(os.path.join(dirname, filename))"
      ],
      "metadata": {
        "colab": {
          "base_uri": "https://localhost:8080/"
        },
        "id": "Uu-S5G2t5GlE",
        "outputId": "539e24ce-98e5-4fee-fe72-fba499ead6f0"
      },
      "execution_count": 55,
      "outputs": [
        {
          "output_type": "stream",
          "name": "stdout",
          "text": [
            "/root/.cache/kagglehub/datasets/bashiralam1709/e-commerce-project-marketing-analytics/versions/1/CUSTOMERS.csv\n",
            "/root/.cache/kagglehub/datasets/bashiralam1709/e-commerce-project-marketing-analytics/versions/1/ORDER_REVIEW_RATINGS.csv\n",
            "/root/.cache/kagglehub/datasets/bashiralam1709/e-commerce-project-marketing-analytics/versions/1/SELLERS.csv\n",
            "/root/.cache/kagglehub/datasets/bashiralam1709/e-commerce-project-marketing-analytics/versions/1/ORDER_PAYMENTS.csv\n",
            "/root/.cache/kagglehub/datasets/bashiralam1709/e-commerce-project-marketing-analytics/versions/1/PRODUCTS.csv\n",
            "/root/.cache/kagglehub/datasets/bashiralam1709/e-commerce-project-marketing-analytics/versions/1/ORDERS.csv\n",
            "/root/.cache/kagglehub/datasets/bashiralam1709/e-commerce-project-marketing-analytics/versions/1/ORDER_ITEMS.csv\n",
            "/root/.cache/kagglehub/datasets/bashiralam1709/e-commerce-project-marketing-analytics/versions/1/GEO_LOCATION.csv\n"
          ]
        }
      ]
    },
    {
      "cell_type": "code",
      "source": [
        "customers = pd.read_csv('/root/.cache/kagglehub/datasets/bashiralam1709/e-commerce-project-marketing-analytics/versions/1/CUSTOMERS.csv')\n",
        "order_review_ratings = pd.read_csv('/root/.cache/kagglehub/datasets/bashiralam1709/e-commerce-project-marketing-analytics/versions/1/ORDER_REVIEW_RATINGS.csv')\n",
        "sellers = pd.read_csv('/root/.cache/kagglehub/datasets/bashiralam1709/e-commerce-project-marketing-analytics/versions/1/SELLERS.csv')\n",
        "order_payments = pd.read_csv('/root/.cache/kagglehub/datasets/bashiralam1709/e-commerce-project-marketing-analytics/versions/1/ORDER_PAYMENTS.csv')\n",
        "products = pd.read_csv('/root/.cache/kagglehub/datasets/bashiralam1709/e-commerce-project-marketing-analytics/versions/1/PRODUCTS.csv')\n",
        "orders = pd.read_csv('/root/.cache/kagglehub/datasets/bashiralam1709/e-commerce-project-marketing-analytics/versions/1/ORDERS.csv')\n",
        "order_items = pd.read_csv('/root/.cache/kagglehub/datasets/bashiralam1709/e-commerce-project-marketing-analytics/versions/1/ORDER_ITEMS.csv')\n",
        "geo_location = pd.read_csv('/root/.cache/kagglehub/datasets/bashiralam1709/e-commerce-project-marketing-analytics/versions/1/GEO_LOCATION.csv')"
      ],
      "metadata": {
        "id": "2FkCdQ1q6BxX"
      },
      "execution_count": 56,
      "outputs": []
    },
    {
      "cell_type": "markdown",
      "source": [
        "#**EDA Process**\n",
        "**EDA** involves exploring and summarizing datasets to understand their structure, identify patterns, detect anomalies, and generate insights using statistical and visual methods before applying advanced analysis."
      ],
      "metadata": {
        "id": "AyYBOk1V9060"
      }
    },
    {
      "cell_type": "code",
      "source": [
        "customers.info()"
      ],
      "metadata": {
        "colab": {
          "base_uri": "https://localhost:8080/"
        },
        "id": "UsBnUBFl7N9h",
        "outputId": "caf050f7-3a8f-4727-cce2-ec9c0b168b47"
      },
      "execution_count": 57,
      "outputs": [
        {
          "output_type": "stream",
          "name": "stdout",
          "text": [
            "<class 'pandas.core.frame.DataFrame'>\n",
            "RangeIndex: 99441 entries, 0 to 99440\n",
            "Data columns (total 5 columns):\n",
            " #   Column                    Non-Null Count  Dtype \n",
            "---  ------                    --------------  ----- \n",
            " 0   customer_id               99441 non-null  object\n",
            " 1   customer_unique_id        99441 non-null  object\n",
            " 2   customer_zip_code_prefix  99441 non-null  int64 \n",
            " 3   customer_city             99441 non-null  object\n",
            " 4   customer_state            99441 non-null  object\n",
            "dtypes: int64(1), object(4)\n",
            "memory usage: 3.8+ MB\n"
          ]
        }
      ]
    },
    {
      "cell_type": "code",
      "source": [
        "#To get unique data in every column\n",
        "customers.nunique()"
      ],
      "metadata": {
        "colab": {
          "base_uri": "https://localhost:8080/",
          "height": 241
        },
        "id": "CuNxJhU9-rsP",
        "outputId": "01cd4d8b-493e-44b0-f19a-b305feb570c3"
      },
      "execution_count": 58,
      "outputs": [
        {
          "output_type": "execute_result",
          "data": {
            "text/plain": [
              "customer_id                 99441\n",
              "customer_unique_id          96096\n",
              "customer_zip_code_prefix    14994\n",
              "customer_city                4119\n",
              "customer_state                 20\n",
              "dtype: int64"
            ],
            "text/html": [
              "<div>\n",
              "<style scoped>\n",
              "    .dataframe tbody tr th:only-of-type {\n",
              "        vertical-align: middle;\n",
              "    }\n",
              "\n",
              "    .dataframe tbody tr th {\n",
              "        vertical-align: top;\n",
              "    }\n",
              "\n",
              "    .dataframe thead th {\n",
              "        text-align: right;\n",
              "    }\n",
              "</style>\n",
              "<table border=\"1\" class=\"dataframe\">\n",
              "  <thead>\n",
              "    <tr style=\"text-align: right;\">\n",
              "      <th></th>\n",
              "      <th>0</th>\n",
              "    </tr>\n",
              "  </thead>\n",
              "  <tbody>\n",
              "    <tr>\n",
              "      <th>customer_id</th>\n",
              "      <td>99441</td>\n",
              "    </tr>\n",
              "    <tr>\n",
              "      <th>customer_unique_id</th>\n",
              "      <td>96096</td>\n",
              "    </tr>\n",
              "    <tr>\n",
              "      <th>customer_zip_code_prefix</th>\n",
              "      <td>14994</td>\n",
              "    </tr>\n",
              "    <tr>\n",
              "      <th>customer_city</th>\n",
              "      <td>4119</td>\n",
              "    </tr>\n",
              "    <tr>\n",
              "      <th>customer_state</th>\n",
              "      <td>20</td>\n",
              "    </tr>\n",
              "  </tbody>\n",
              "</table>\n",
              "</div><br><label><b>dtype:</b> int64</label>"
            ]
          },
          "metadata": {},
          "execution_count": 58
        }
      ]
    },
    {
      "cell_type": "code",
      "source": [
        "#Checking if there is NaN\n",
        "print(customers.isna().any(axis=1).sum())"
      ],
      "metadata": {
        "colab": {
          "base_uri": "https://localhost:8080/"
        },
        "id": "gv3pUKGKCWbO",
        "outputId": "ab41199c-865c-4050-fc37-ac6a0b616fca"
      },
      "execution_count": 59,
      "outputs": [
        {
          "output_type": "stream",
          "name": "stdout",
          "text": [
            "0\n"
          ]
        }
      ]
    },
    {
      "cell_type": "code",
      "source": [
        "order_review_ratings.info()"
      ],
      "metadata": {
        "colab": {
          "base_uri": "https://localhost:8080/"
        },
        "id": "fTaJUbEbAVoW",
        "outputId": "b9f038b0-4ab3-485a-dbe8-4d2f02a85922"
      },
      "execution_count": 60,
      "outputs": [
        {
          "output_type": "stream",
          "name": "stdout",
          "text": [
            "<class 'pandas.core.frame.DataFrame'>\n",
            "RangeIndex: 100000 entries, 0 to 99999\n",
            "Data columns (total 5 columns):\n",
            " #   Column                   Non-Null Count   Dtype \n",
            "---  ------                   --------------   ----- \n",
            " 0   review_id                100000 non-null  object\n",
            " 1   order_id                 100000 non-null  object\n",
            " 2   review_score             100000 non-null  int64 \n",
            " 3   review_creation_date     100000 non-null  object\n",
            " 4   review_answer_timestamp  100000 non-null  object\n",
            "dtypes: int64(1), object(4)\n",
            "memory usage: 3.8+ MB\n"
          ]
        }
      ]
    },
    {
      "cell_type": "code",
      "source": [
        "sellers.info()"
      ],
      "metadata": {
        "colab": {
          "base_uri": "https://localhost:8080/"
        },
        "id": "JArDeOUNApOA",
        "outputId": "8f206e26-3b0b-4fcf-b1f0-116689688530"
      },
      "execution_count": 61,
      "outputs": [
        {
          "output_type": "stream",
          "name": "stdout",
          "text": [
            "<class 'pandas.core.frame.DataFrame'>\n",
            "RangeIndex: 3095 entries, 0 to 3094\n",
            "Data columns (total 4 columns):\n",
            " #   Column                  Non-Null Count  Dtype \n",
            "---  ------                  --------------  ----- \n",
            " 0   seller_id               3095 non-null   object\n",
            " 1   seller_zip_code_prefix  3095 non-null   int64 \n",
            " 2   seller_city             3038 non-null   object\n",
            " 3   seller_state            3038 non-null   object\n",
            "dtypes: int64(1), object(3)\n",
            "memory usage: 96.8+ KB\n"
          ]
        }
      ]
    },
    {
      "cell_type": "code",
      "source": [
        "#I had noticed that there's 57 NaN values -by getting the subtraction between seller_id count and seller_city count- so to delete them\n",
        "sellers.dropna(inplace=True)"
      ],
      "metadata": {
        "id": "zHPNG7ZvBHdN"
      },
      "execution_count": 62,
      "outputs": []
    },
    {
      "cell_type": "code",
      "source": [
        "sellers.info()"
      ],
      "metadata": {
        "colab": {
          "base_uri": "https://localhost:8080/"
        },
        "id": "zpVpLAwFCzC2",
        "outputId": "ee6565ee-4b75-494d-c447-afd724782faa"
      },
      "execution_count": 63,
      "outputs": [
        {
          "output_type": "stream",
          "name": "stdout",
          "text": [
            "<class 'pandas.core.frame.DataFrame'>\n",
            "Index: 3038 entries, 0 to 3094\n",
            "Data columns (total 4 columns):\n",
            " #   Column                  Non-Null Count  Dtype \n",
            "---  ------                  --------------  ----- \n",
            " 0   seller_id               3038 non-null   object\n",
            " 1   seller_zip_code_prefix  3038 non-null   int64 \n",
            " 2   seller_city             3038 non-null   object\n",
            " 3   seller_state            3038 non-null   object\n",
            "dtypes: int64(1), object(3)\n",
            "memory usage: 118.7+ KB\n"
          ]
        }
      ]
    },
    {
      "cell_type": "code",
      "source": [
        "order_payments.info()"
      ],
      "metadata": {
        "colab": {
          "base_uri": "https://localhost:8080/"
        },
        "id": "jR3ND5ZvENk6",
        "outputId": "43a56f75-6f96-47a9-e58a-e5dbf6b9964f"
      },
      "execution_count": 64,
      "outputs": [
        {
          "output_type": "stream",
          "name": "stdout",
          "text": [
            "<class 'pandas.core.frame.DataFrame'>\n",
            "RangeIndex: 103886 entries, 0 to 103885\n",
            "Data columns (total 5 columns):\n",
            " #   Column                Non-Null Count   Dtype  \n",
            "---  ------                --------------   -----  \n",
            " 0   order_id              103886 non-null  object \n",
            " 1   payment_sequential    103886 non-null  int64  \n",
            " 2   payment_type          103886 non-null  object \n",
            " 3   payment_installments  103886 non-null  int64  \n",
            " 4   payment_value         103886 non-null  float64\n",
            "dtypes: float64(1), int64(2), object(2)\n",
            "memory usage: 4.0+ MB\n"
          ]
        }
      ]
    },
    {
      "cell_type": "code",
      "source": [
        "products.info()"
      ],
      "metadata": {
        "colab": {
          "base_uri": "https://localhost:8080/"
        },
        "id": "S2UqyurfElcs",
        "outputId": "0f4d9d44-1ed9-40fb-eeae-17a97c9f0764"
      },
      "execution_count": 65,
      "outputs": [
        {
          "output_type": "stream",
          "name": "stdout",
          "text": [
            "<class 'pandas.core.frame.DataFrame'>\n",
            "RangeIndex: 32951 entries, 0 to 32950\n",
            "Data columns (total 9 columns):\n",
            " #   Column                      Non-Null Count  Dtype  \n",
            "---  ------                      --------------  -----  \n",
            " 0   product_id                  32951 non-null  object \n",
            " 1   product_category_name       32328 non-null  object \n",
            " 2   product_name_lenght         32341 non-null  float64\n",
            " 3   product_description_lenght  32341 non-null  float64\n",
            " 4   product_photos_qty          32341 non-null  float64\n",
            " 5   product_weight_g            32949 non-null  float64\n",
            " 6   product_length_cm           32949 non-null  float64\n",
            " 7   product_height_cm           32949 non-null  float64\n",
            " 8   product_width_cm            32949 non-null  float64\n",
            "dtypes: float64(7), object(2)\n",
            "memory usage: 2.3+ MB\n"
          ]
        }
      ]
    },
    {
      "cell_type": "code",
      "source": [
        "products.dropna(inplace=True)"
      ],
      "metadata": {
        "id": "nzbDJIf5FAVf"
      },
      "execution_count": 66,
      "outputs": []
    },
    {
      "cell_type": "code",
      "source": [
        "products.info()"
      ],
      "metadata": {
        "colab": {
          "base_uri": "https://localhost:8080/"
        },
        "id": "4uR4CmBvFXvK",
        "outputId": "02f568be-dabc-4a58-ad67-3e270cf9b903"
      },
      "execution_count": 67,
      "outputs": [
        {
          "output_type": "stream",
          "name": "stdout",
          "text": [
            "<class 'pandas.core.frame.DataFrame'>\n",
            "Index: 32327 entries, 0 to 32950\n",
            "Data columns (total 9 columns):\n",
            " #   Column                      Non-Null Count  Dtype  \n",
            "---  ------                      --------------  -----  \n",
            " 0   product_id                  32327 non-null  object \n",
            " 1   product_category_name       32327 non-null  object \n",
            " 2   product_name_lenght         32327 non-null  float64\n",
            " 3   product_description_lenght  32327 non-null  float64\n",
            " 4   product_photos_qty          32327 non-null  float64\n",
            " 5   product_weight_g            32327 non-null  float64\n",
            " 6   product_length_cm           32327 non-null  float64\n",
            " 7   product_height_cm           32327 non-null  float64\n",
            " 8   product_width_cm            32327 non-null  float64\n",
            "dtypes: float64(7), object(2)\n",
            "memory usage: 2.5+ MB\n"
          ]
        }
      ]
    },
    {
      "cell_type": "code",
      "source": [
        "orders.info()"
      ],
      "metadata": {
        "colab": {
          "base_uri": "https://localhost:8080/"
        },
        "id": "GDF0cqhOFbi_",
        "outputId": "bd604a02-abf5-4083-8e74-228c31d1bd15"
      },
      "execution_count": 68,
      "outputs": [
        {
          "output_type": "stream",
          "name": "stdout",
          "text": [
            "<class 'pandas.core.frame.DataFrame'>\n",
            "RangeIndex: 99441 entries, 0 to 99440\n",
            "Data columns (total 8 columns):\n",
            " #   Column                         Non-Null Count  Dtype \n",
            "---  ------                         --------------  ----- \n",
            " 0   order_id                       99441 non-null  object\n",
            " 1   customer_id                    99441 non-null  object\n",
            " 2   order_status                   99441 non-null  object\n",
            " 3   order_purchase_timestamp       99441 non-null  object\n",
            " 4   order_approved_at              99281 non-null  object\n",
            " 5   order_delivered_carrier_date   97658 non-null  object\n",
            " 6   order_delivered_customer_date  96476 non-null  object\n",
            " 7   order_estimated_delivery_date  99441 non-null  object\n",
            "dtypes: object(8)\n",
            "memory usage: 6.1+ MB\n"
          ]
        }
      ]
    },
    {
      "cell_type": "code",
      "source": [
        "#Calculate the count of NaN values in each column of the Orders DataFrame\n",
        "orders.isnull().sum()"
      ],
      "metadata": {
        "colab": {
          "base_uri": "https://localhost:8080/",
          "height": 335
        },
        "id": "QkxaZtF2Fjhl",
        "outputId": "b1273ddf-13f0-4d3e-fbe9-2ebb63fdac7a"
      },
      "execution_count": 69,
      "outputs": [
        {
          "output_type": "execute_result",
          "data": {
            "text/plain": [
              "order_id                            0\n",
              "customer_id                         0\n",
              "order_status                        0\n",
              "order_purchase_timestamp            0\n",
              "order_approved_at                 160\n",
              "order_delivered_carrier_date     1783\n",
              "order_delivered_customer_date    2965\n",
              "order_estimated_delivery_date       0\n",
              "dtype: int64"
            ],
            "text/html": [
              "<div>\n",
              "<style scoped>\n",
              "    .dataframe tbody tr th:only-of-type {\n",
              "        vertical-align: middle;\n",
              "    }\n",
              "\n",
              "    .dataframe tbody tr th {\n",
              "        vertical-align: top;\n",
              "    }\n",
              "\n",
              "    .dataframe thead th {\n",
              "        text-align: right;\n",
              "    }\n",
              "</style>\n",
              "<table border=\"1\" class=\"dataframe\">\n",
              "  <thead>\n",
              "    <tr style=\"text-align: right;\">\n",
              "      <th></th>\n",
              "      <th>0</th>\n",
              "    </tr>\n",
              "  </thead>\n",
              "  <tbody>\n",
              "    <tr>\n",
              "      <th>order_id</th>\n",
              "      <td>0</td>\n",
              "    </tr>\n",
              "    <tr>\n",
              "      <th>customer_id</th>\n",
              "      <td>0</td>\n",
              "    </tr>\n",
              "    <tr>\n",
              "      <th>order_status</th>\n",
              "      <td>0</td>\n",
              "    </tr>\n",
              "    <tr>\n",
              "      <th>order_purchase_timestamp</th>\n",
              "      <td>0</td>\n",
              "    </tr>\n",
              "    <tr>\n",
              "      <th>order_approved_at</th>\n",
              "      <td>160</td>\n",
              "    </tr>\n",
              "    <tr>\n",
              "      <th>order_delivered_carrier_date</th>\n",
              "      <td>1783</td>\n",
              "    </tr>\n",
              "    <tr>\n",
              "      <th>order_delivered_customer_date</th>\n",
              "      <td>2965</td>\n",
              "    </tr>\n",
              "    <tr>\n",
              "      <th>order_estimated_delivery_date</th>\n",
              "      <td>0</td>\n",
              "    </tr>\n",
              "  </tbody>\n",
              "</table>\n",
              "</div><br><label><b>dtype:</b> int64</label>"
            ]
          },
          "metadata": {},
          "execution_count": 69
        }
      ]
    },
    {
      "cell_type": "markdown",
      "source": [
        "Missing values in time-related columns (e.g., delivery dates) may have analytical significance (e.g., orders in transit or canceled).</br>\n",
        "Therefore, we decided to retain them without deletion or imputation to avoid losing information or introducing bias in the analysis.</br>\n",
        "They will be handled later in the analysis (e.g., by creating an \"Unknown\" category or analyzing them separately)."
      ],
      "metadata": {
        "id": "yDCiERzZIJEQ"
      }
    },
    {
      "cell_type": "code",
      "source": [
        "order_items.info()"
      ],
      "metadata": {
        "colab": {
          "base_uri": "https://localhost:8080/"
        },
        "id": "bs50ZyM5Fs4k",
        "outputId": "242cfa24-902b-4b01-b942-eb9e6a944407"
      },
      "execution_count": 70,
      "outputs": [
        {
          "output_type": "stream",
          "name": "stdout",
          "text": [
            "<class 'pandas.core.frame.DataFrame'>\n",
            "RangeIndex: 112650 entries, 0 to 112649\n",
            "Data columns (total 7 columns):\n",
            " #   Column               Non-Null Count   Dtype  \n",
            "---  ------               --------------   -----  \n",
            " 0   order_id             112650 non-null  object \n",
            " 1   order_item_id        112650 non-null  int64  \n",
            " 2   product_id           112650 non-null  object \n",
            " 3   seller_id            112650 non-null  object \n",
            " 4   shipping_limit_date  112650 non-null  object \n",
            " 5   price                112650 non-null  float64\n",
            " 6   freight_value        112650 non-null  float64\n",
            "dtypes: float64(2), int64(1), object(4)\n",
            "memory usage: 6.0+ MB\n"
          ]
        }
      ]
    },
    {
      "cell_type": "code",
      "source": [
        "geo_location.info()"
      ],
      "metadata": {
        "colab": {
          "base_uri": "https://localhost:8080/"
        },
        "id": "jRrO4DhjIs-R",
        "outputId": "8767ce69-a5f6-46b4-d212-537dd76e2fff"
      },
      "execution_count": 71,
      "outputs": [
        {
          "output_type": "stream",
          "name": "stdout",
          "text": [
            "<class 'pandas.core.frame.DataFrame'>\n",
            "RangeIndex: 19015 entries, 0 to 19014\n",
            "Data columns (total 5 columns):\n",
            " #   Column                       Non-Null Count  Dtype  \n",
            "---  ------                       --------------  -----  \n",
            " 0   geolocation_zip_code_prefix  19015 non-null  int64  \n",
            " 1   geolocation_lat              19015 non-null  float64\n",
            " 2   geolocation_lng              19015 non-null  float64\n",
            " 3   geolocation_city             19015 non-null  object \n",
            " 4   geolocation_state            19015 non-null  object \n",
            "dtypes: float64(2), int64(1), object(2)\n",
            "memory usage: 742.9+ KB\n"
          ]
        }
      ]
    },
    {
      "cell_type": "code",
      "source": [
        "merged_data =(orders.merge(customers, on='customer_id', how='left')\n",
        "                    .merge(order_items, on='order_id', how='left')\n",
        "                    .merge(order_payments, on='order_id', how='left')\n",
        "                    .merge(order_review_ratings, on='order_id', how='left')\n",
        "                    .merge(sellers, on='seller_id', how='left')\n",
        "                    .merge(products, on='product_id', how='left')\n",
        "                    .merge(geo_location, left_on='customer_zip_code_prefix', right_on='geolocation_zip_code_prefix', how='left')\n",
        ")\n",
        "\n",
        "print(merged_data)"
      ],
      "metadata": {
        "colab": {
          "base_uri": "https://localhost:8080/"
        },
        "id": "1g8Wqh9UI6oM",
        "outputId": "9863f2a8-9c93-436a-96ec-13e36a336229"
      },
      "execution_count": 72,
      "outputs": [
        {
          "output_type": "stream",
          "name": "stdout",
          "text": [
            "                                order_id                       customer_id  \\\n",
            "0       e481f51cbdc54678b7cc49136f2d6af7  9ef432eb6251297304e76186b10a928d   \n",
            "1       e481f51cbdc54678b7cc49136f2d6af7  9ef432eb6251297304e76186b10a928d   \n",
            "2       e481f51cbdc54678b7cc49136f2d6af7  9ef432eb6251297304e76186b10a928d   \n",
            "3       53cdb2fc8bc7dce0b6741e2150273451  b0830fb4747a6c6d20dea0b8c802d7ef   \n",
            "4       47770eb9100c2d0c44946d9cf07ec65d  41ce2a54c0b03bf3443c3d931a367089   \n",
            "...                                  ...                               ...   \n",
            "119146  63943bddc261676b46f01ca7ac2f7bd8  1fca14ff2861355f6e5f14306ff977a7   \n",
            "119147  83c1379a015df1e13d02aae0204711ab  1aa71eb042121263aafbe80c1b562c9c   \n",
            "119148  11c177c8e97725db2631073c19f07b62  b331b74b18dc79bcdf6532d51e1637c1   \n",
            "119149  11c177c8e97725db2631073c19f07b62  b331b74b18dc79bcdf6532d51e1637c1   \n",
            "119150  66dea50a8b16d9b4dee7af250b4be1a5  edb027a75a1449115f6b43211ae02a24   \n",
            "\n",
            "       order_status order_purchase_timestamp order_approved_at  \\\n",
            "0         delivered          10/2/2017 10:56   10/2/2017 11:07   \n",
            "1         delivered          10/2/2017 10:56   10/2/2017 11:07   \n",
            "2         delivered          10/2/2017 10:56   10/2/2017 11:07   \n",
            "3         delivered          7/24/2018 20:41    7/26/2018 3:24   \n",
            "4         delivered            8/8/2018 8:38     8/8/2018 8:55   \n",
            "...             ...                      ...               ...   \n",
            "119146    delivered           2/6/2018 12:58    2/6/2018 13:10   \n",
            "119147    delivered          8/27/2017 14:46   8/27/2017 15:04   \n",
            "119148    delivered           1/8/2018 21:28    1/8/2018 21:36   \n",
            "119149    delivered           1/8/2018 21:28    1/8/2018 21:36   \n",
            "119150    delivered           3/8/2018 20:57    3/9/2018 11:20   \n",
            "\n",
            "       order_delivered_carrier_date order_delivered_customer_date  \\\n",
            "0                   10/4/2017 19:55              10/10/2017 21:25   \n",
            "1                   10/4/2017 19:55              10/10/2017 21:25   \n",
            "2                   10/4/2017 19:55              10/10/2017 21:25   \n",
            "3                   7/26/2018 14:31                8/7/2018 15:27   \n",
            "4                    8/8/2018 13:50               8/17/2018 18:06   \n",
            "...                             ...                           ...   \n",
            "119146               2/7/2018 23:22               2/28/2018 17:37   \n",
            "119147              8/28/2017 20:52               9/21/2017 11:24   \n",
            "119148              1/12/2018 15:35               1/25/2018 23:32   \n",
            "119149              1/12/2018 15:35               1/25/2018 23:32   \n",
            "119150               3/9/2018 22:11               3/16/2018 13:08   \n",
            "\n",
            "       order_estimated_delivery_date                customer_unique_id  \\\n",
            "0                    10/18/2017 0:00  7c396fd4830fd04220f754e42b4e5bff   \n",
            "1                    10/18/2017 0:00  7c396fd4830fd04220f754e42b4e5bff   \n",
            "2                    10/18/2017 0:00  7c396fd4830fd04220f754e42b4e5bff   \n",
            "3                     8/13/2018 0:00  af07308b275d755c9edb36a90c618231   \n",
            "4                      9/4/2018 0:00  3a653a41f6f9fc3d2a113cf8398680e8   \n",
            "...                              ...                               ...   \n",
            "119146                 3/2/2018 0:00  da62f9e57a76d978d02ab5362c509660   \n",
            "119147                9/27/2017 0:00  737520a9aad80b3fbbdad19b66b37b30   \n",
            "119148                2/15/2018 0:00  5097a5312c8b157bb7be58ae360ef43c   \n",
            "119149                2/15/2018 0:00  5097a5312c8b157bb7be58ae360ef43c   \n",
            "119150                 4/3/2018 0:00  60350aa974b26ff12caad89e55993bd6   \n",
            "\n",
            "        customer_zip_code_prefix  ... product_photos_qty product_weight_g  \\\n",
            "0                           3149  ...                4.0            500.0   \n",
            "1                           3149  ...                4.0            500.0   \n",
            "2                           3149  ...                4.0            500.0   \n",
            "3                          47813  ...                1.0            400.0   \n",
            "4                          75265  ...                1.0            420.0   \n",
            "...                          ...  ...                ...              ...   \n",
            "119146                     11722  ...                4.0           4950.0   \n",
            "119147                     45920  ...                2.0          13300.0   \n",
            "119148                     28685  ...                1.0           6550.0   \n",
            "119149                     28685  ...                1.0           6550.0   \n",
            "119150                     83750  ...                1.0            150.0   \n",
            "\n",
            "        product_length_cm product_height_cm product_width_cm  \\\n",
            "0                    19.0               8.0             13.0   \n",
            "1                    19.0               8.0             13.0   \n",
            "2                    19.0               8.0             13.0   \n",
            "3                    19.0              13.0             19.0   \n",
            "4                    24.0              19.0             21.0   \n",
            "...                   ...               ...              ...   \n",
            "119146               40.0              10.0             40.0   \n",
            "119147               32.0              90.0             22.0   \n",
            "119148               20.0              20.0             20.0   \n",
            "119149               20.0              20.0             20.0   \n",
            "119150               16.0               7.0             15.0   \n",
            "\n",
            "       geolocation_zip_code_prefix  geolocation_lat  geolocation_lng  \\\n",
            "0                           3149.0       -23.574809       -46.587471   \n",
            "1                           3149.0       -23.574809       -46.587471   \n",
            "2                           3149.0       -23.574809       -46.587471   \n",
            "3                          47813.0       -12.169860       -44.988369   \n",
            "4                          75265.0       -16.746337       -48.514624   \n",
            "...                            ...              ...              ...   \n",
            "119146                     11722.0       -24.001467       -46.446355   \n",
            "119147                     45920.0       -17.891522       -39.370942   \n",
            "119148                     28685.0       -22.555985       -42.690761   \n",
            "119149                     28685.0       -22.555985       -42.690761   \n",
            "119150                     83750.0       -25.775722       -49.723981   \n",
            "\n",
            "        geolocation_city geolocation_state  \n",
            "0           Akkarampalle    Andhra Pradesh  \n",
            "1           Akkarampalle    Andhra Pradesh  \n",
            "2           Akkarampalle    Andhra Pradesh  \n",
            "3              Pandariya      Chhattisgarh  \n",
            "4                Dhamdha      Chhattisgarh  \n",
            "...                  ...               ...  \n",
            "119146      Mahendragarh           Haryana  \n",
            "119147           Bidasar         Rajasthan  \n",
            "119148            Banaur            Punjab  \n",
            "119149            Banaur            Punjab  \n",
            "119150          Longowal            Punjab  \n",
            "\n",
            "[119151 rows x 42 columns]\n"
          ]
        }
      ]
    },
    {
      "cell_type": "code",
      "source": [
        "print(\"\\n\".join(merged_data.columns))"
      ],
      "metadata": {
        "colab": {
          "base_uri": "https://localhost:8080/"
        },
        "id": "BzWgkCCyM796",
        "outputId": "86d9b286-a3dd-490c-f6b0-cb6100d7f4b7"
      },
      "execution_count": 73,
      "outputs": [
        {
          "output_type": "stream",
          "name": "stdout",
          "text": [
            "order_id\n",
            "customer_id\n",
            "order_status\n",
            "order_purchase_timestamp\n",
            "order_approved_at\n",
            "order_delivered_carrier_date\n",
            "order_delivered_customer_date\n",
            "order_estimated_delivery_date\n",
            "customer_unique_id\n",
            "customer_zip_code_prefix\n",
            "customer_city\n",
            "customer_state\n",
            "order_item_id\n",
            "product_id\n",
            "seller_id\n",
            "shipping_limit_date\n",
            "price\n",
            "freight_value\n",
            "payment_sequential\n",
            "payment_type\n",
            "payment_installments\n",
            "payment_value\n",
            "review_id\n",
            "review_score\n",
            "review_creation_date\n",
            "review_answer_timestamp\n",
            "seller_zip_code_prefix\n",
            "seller_city\n",
            "seller_state\n",
            "product_category_name\n",
            "product_name_lenght\n",
            "product_description_lenght\n",
            "product_photos_qty\n",
            "product_weight_g\n",
            "product_length_cm\n",
            "product_height_cm\n",
            "product_width_cm\n",
            "geolocation_zip_code_prefix\n",
            "geolocation_lat\n",
            "geolocation_lng\n",
            "geolocation_city\n",
            "geolocation_state\n"
          ]
        }
      ]
    },
    {
      "cell_type": "markdown",
      "source": [
        "# **Key Metrics Summary**\n",
        "This section provides a comprehensive overview of key metrics related to sales, products, users, and delivery, offering insights into revenue, order quantities, customer and seller counts, and more."
      ],
      "metadata": {
        "id": "NRBgxsiFh844"
      }
    },
    {
      "cell_type": "code",
      "source": [
        "# Sales Stats\n",
        "total_revenue = merged_data['payment_value'].sum()\n",
        "average_revenue_per_order = merged_data['payment_value'].mean()\n",
        "count_orders = merged_data['order_id'].nunique()\n",
        "# Products Stats\n",
        "total_quantity = merged_data['order_item_id'].sum()\n",
        "average_quantity_per_order = merged_data['order_item_id'].mean()\n",
        "count_categories = merged_data['product_category_name'].nunique()\n",
        "count_products = merged_data['product_id'].nunique()\n",
        "# Users Stats\n",
        "count_customers = merged_data['customer_unique_id'].nunique()\n",
        "count_sellers = merged_data['seller_id'].nunique()\n",
        "average_product_rate = merged_data['review_score'].mean()\n",
        "# Delivery Stats\n",
        "count_city_locations = merged_data['customer_city'].nunique()\n",
        "count_payment_methods = merged_data['payment_type'].nunique()\n",
        "\n",
        "print('Sales Stats:')\n",
        "print('Total Revenue:', '{:.2f}'.format(total_revenue))\n",
        "print('Average Revenue Per Order: ', '{:.2f}'.format(average_revenue_per_order))\n",
        "print('Total Orders:', count_orders)\n",
        "print('Products Stats:')\n",
        "print('Total Quantity:', total_quantity)\n",
        "print('Average Quantity Per Order: ', '{:.2f}'.format(average_quantity_per_order))\n",
        "print('Count of Categories:', count_categories)\n",
        "print('Total Products:', count_products)\n",
        "print('Users Stats:')\n",
        "print('Count of Customers: ', count_customers)\n",
        "print('Count of Sellers: ', count_sellers)\n",
        "print('Average Product Rate: ', '{:.2f}'.format(average_product_rate))\n",
        "print('Other Stats:')\n",
        "print('Count of City Locations: ', count_city_locations)\n",
        "print('Count of Payment Methods: ', count_payment_methods)"
      ],
      "metadata": {
        "colab": {
          "base_uri": "https://localhost:8080/"
        },
        "id": "JnSdyM84bW7J",
        "outputId": "bbe76613-82ad-49b8-ef9f-42d56986ceef"
      },
      "execution_count": 74,
      "outputs": [
        {
          "output_type": "stream",
          "name": "stdout",
          "text": [
            "Sales Stats:\n",
            "Total Revenue: 20581109.62\n",
            "Average Revenue Per Order:  172.74\n",
            "Total Orders: 99441\n",
            "Products Stats:\n",
            "Total Quantity: 141571.0\n",
            "Average Quantity Per Order:  1.20\n",
            "Count of Categories: 71\n",
            "Total Products: 32951\n",
            "Users Stats:\n",
            "Count of Customers:  96096\n",
            "Count of Sellers:  3095\n",
            "Average Product Rate:  4.00\n",
            "Other Stats:\n",
            "Count of City Locations:  4119\n",
            "Count of Payment Methods:  5\n"
          ]
        }
      ]
    },
    {
      "cell_type": "markdown",
      "source": [
        "# **Purchase Patterns & Customer Behavior**\n",
        "Understanding how, when, and where customers make purchases helps identify trends and optimize marketing strategies."
      ],
      "metadata": {
        "id": "6AotTeCfihtr"
      }
    },
    {
      "cell_type": "markdown",
      "source": [
        "**1- What are the common purchasing patterns? (e.g., Which days of the week or months have the highest sales?)**"
      ],
      "metadata": {
        "id": "4Y71YeRJljbP"
      }
    },
    {
      "cell_type": "code",
      "source": [
        "merged_data['order_purchase_timestamp'] = pd.to_datetime(merged_data['order_purchase_timestamp'])\n",
        "\n",
        "merged_data['day_of_week'] = merged_data['order_purchase_timestamp'].dt.day_name()\n",
        "merged_data['month'] = merged_data['order_purchase_timestamp'].dt.month_name()\n",
        "\n",
        "day_order = ['Monday', 'Tuesday', 'Wednesday', 'Thursday', 'Friday', 'Saturday', 'Sunday']\n",
        "month_order = ['January', 'February', 'March', 'April', 'May', 'June',\n",
        "               'July', 'August', 'September', 'October', 'November', 'December']\n",
        "\n",
        "merged_data['day_of_week'] = pd.Categorical(merged_data['day_of_week'], categories=day_order, ordered=True)\n",
        "merged_data['month'] = pd.Categorical(merged_data['month'], categories=month_order, ordered=True)\n",
        "\n",
        "orders_by_day = merged_data['day_of_week'].value_counts().sort_index()\n",
        "\n",
        "orders_by_month = merged_data['month'].value_counts().sort_index()\n",
        "\n",
        "print(\"Count of Orders By Day:\")\n",
        "print(orders_by_day)\n",
        "\n",
        "print(\"\\n Count of Orders By Month:\")\n",
        "print(orders_by_month)\n",
        "\n",
        "plt.figure(figsize=(12, 6))\n",
        "\n",
        "plt.subplot(1, 2, 1)\n",
        "orders_by_day.plot(kind='bar', color='skyblue')\n",
        "plt.title('Count of Orders By Day')\n",
        "plt.xlabel('Day')\n",
        "plt.ylabel('Count of Orders')\n",
        "\n",
        "plt.subplot(1, 2, 2)\n",
        "orders_by_month.plot(kind='bar', color='lightgreen')\n",
        "plt.title('Count of Orders By Month')\n",
        "plt.xlabel('Month')\n",
        "plt.ylabel('Count of Orders')\n",
        "\n",
        "plt.tight_layout()\n",
        "plt.show()"
      ],
      "metadata": {
        "colab": {
          "base_uri": "https://localhost:8080/",
          "height": 1000
        },
        "id": "ZdD7ji3Zmn9O",
        "outputId": "5ca07143-6fa7-4e3c-c2d5-fcbd495efa62"
      },
      "execution_count": 75,
      "outputs": [
        {
          "output_type": "stream",
          "name": "stdout",
          "text": [
            "Count of Orders By Day:\n",
            "day_of_week\n",
            "Monday       19366\n",
            "Tuesday      19316\n",
            "Wednesday    18641\n",
            "Thursday     17827\n",
            "Friday       17006\n",
            "Saturday     12899\n",
            "Sunday       14096\n",
            "Name: count, dtype: int64\n",
            "\n",
            " Count of Orders By Month:\n",
            "month\n",
            "January       9690\n",
            "February     10183\n",
            "March        11858\n",
            "April        11156\n",
            "May          12743\n",
            "June         11256\n",
            "July         12325\n",
            "August       12802\n",
            "September     5210\n",
            "October       6089\n",
            "November      9191\n",
            "December      6648\n",
            "Name: count, dtype: int64\n"
          ]
        },
        {
          "output_type": "display_data",
          "data": {
            "text/plain": [
              "<Figure size 1200x600 with 2 Axes>"
            ],
            "image/png": "[encoded data removed]"
          },
          "metadata": {}
        }
      ]
    },
    {
      "cell_type": "markdown",
      "source": [
        "***Analytical Report***\n",
        "\n",
        "**1. Analysis of Orders by Day:** </br>\n",
        "* Tuesday is the most active day for purchases (19,316 orders), followed\n",
        "by Wednesday (18,641 orders). </br>\n",
        "* Saturday is the least active day (12,899 orders), indicating that in usual customers begin ordering from the first day in the week (Monday by 19,366 orders) but they may prefer shopping mid-week rather than on weekends, so we can notice how does it reduce day by day till the Friday (17,006) </br>\n",
        "\n",
        "**2. Analysis of Orders by Month:**\n",
        "* August (12,802 orders) is the most active month for purchases, followed\n",
        "by May and July.\n",
        "* September (5,210 orders) is the least active month, which may indicate a drop in demand at the beginning of autumn.\n",
        "* There is a noticeable increase in orders during the summer months (May to August).\n",
        "\n",
        "**3. Conclusions and Recommendations:**\n",
        "* Optimize Marketing Campaigns:\n",
        "  * Focus on the most active days (Tuesday and Wednesday) to boost sales.\n",
        "  * Offer special promotions on less active days (Saturday and Sunday) to stimulate purchases.\n",
        "* Prepare for Peak Periods:\n",
        "  * Enhance inventory and logistics during the summer months (May to August) to handle increased demand.\n",
        "  * Plan strong marketing campaigns during this period.\n",
        "* Analyze Reasons for Decline:\n",
        "  * Investigate the reasons for the drop in sales in September and October and propose strategies to improve performance during these months.\n",
        "* Improve Customer Experience:\n",
        "  * Analyze the reasons for lower sales on weekends (Saturday and Sunday) and enhance the shopping experience during these days.\n",
        "  * Make offers in the weekends to increase sales in these days."
      ],
      "metadata": {
        "id": "umAoFqcBuKKG"
      }
    },
    {
      "cell_type": "markdown",
      "source": [
        "**2- Who are the top-spending customers? Which geographic regions do most orders come from?**"
      ],
      "metadata": {
        "id": "GYvA01HX6DFf"
      }
    },
    {
      "cell_type": "code",
      "source": [
        "top_customers = merged_data.groupby('customer_unique_id')['payment_value'].sum().reset_index()\n",
        "top_customers = top_customers.sort_values(by='payment_value', ascending=False)\n",
        "top_10_customers = top_customers.head(10)\n",
        "top_regions = merged_data.groupby('geolocation_state').size().reset_index(name='order_count')\n",
        "top_regions = top_regions.sort_values(by='order_count', ascending=False)\n",
        "top_10_regions = top_regions.head(10)\n",
        "\n",
        "top_10_customers = top_10_customers.reset_index(drop=False)\n",
        "top_10_customers.index = top_10_customers.index + 1\n",
        "top_10_customers = top_10_customers.rename(columns={'index': 'Row Number'})\n",
        "\n",
        "top_10_regions = top_10_regions.reset_index(drop=False)\n",
        "top_10_regions.index = top_10_regions.index + 1\n",
        "top_10_regions = top_10_regions.rename(columns={'index': 'Row Number'})\n",
        "\n",
        "top_10_customers = top_10_customers.drop(columns=['Row Number'])\n",
        "\n",
        "top_10_regions = top_10_regions.drop(columns=['Row Number'])\n",
        "\n",
        "print(\"Top 10 Spending Customers:\")\n",
        "print(top_10_customers)\n",
        "\n",
        "print(\"\\nTop 10 Regions with Most Orders:\")\n",
        "print(top_10_regions)"
      ],
      "metadata": {
        "colab": {
          "base_uri": "https://localhost:8080/"
        },
        "id": "mEkjF7Xmoh3k",
        "outputId": "0ccd98fe-61f3-4b06-ac8f-ff2dbc2fe0b5"
      },
      "execution_count": 76,
      "outputs": [
        {
          "output_type": "stream",
          "name": "stdout",
          "text": [
            "Top 10 Spending Customers:\n",
            "                  customer_unique_id  payment_value\n",
            "1   0a0a92112bd4c708ca5fde585afaa872      109312.64\n",
            "2   698e1cf81d01a3d389d96145f7fa6df8       45256.00\n",
            "3   c402f431464c72e27330a67f7b94d4fb       44048.00\n",
            "4   4007669dec559734d6f53e029e360987       36489.24\n",
            "5   ef8d54b3797ea4db1d63f0ced6a906e9       30186.00\n",
            "6   763c8b1c9c68a0229c42c9fc6f662b93       29099.52\n",
            "7   c8460e4251689ba205045f3ea17884a1       27935.46\n",
            "8   eae0a83d752b1dd32697e0e7b4221656       25051.89\n",
            "9   3d47f4368ccc8e1bb4c4a12dbda7111b       22346.60\n",
            "10  adfa1cab2b2c8706db21bb13c0a1beb1       19457.04\n",
            "\n",
            "Top 10 Regions with Most Orders:\n",
            "   geolocation_state  order_count\n",
            "1     Andhra Pradesh        75649\n",
            "2            Gujarat         8445\n",
            "3       Chhattisgarh         7094\n",
            "4          Karnataka         4346\n",
            "5              Delhi         3826\n",
            "6     Madhya Pradesh         3221\n",
            "7            Haryana         2534\n",
            "8         Tamil Nadu         2285\n",
            "9        Maharashtra         2242\n",
            "10   Jammu & Kashmir         1671\n"
          ]
        }
      ]
    },
    {
      "cell_type": "markdown",
      "source": [
        "***Analytical Report: Top-Spending Customers & Highest-Order Regions***\n",
        "\n",
        "**Recommendations:**\n",
        "\n",
        "* Analyze Reasons for High Spending:\n",
        "  * Understand why top customers spend more (e.g., purchasing high-value products or frequent buying or just buying for wasting money).\n",
        "* Enhance Marketing in High-Order Regions:\n",
        "  * Increase marketing campaigns in regions with high order volumes, such as Andhra Pradesh and Gujarat.\n",
        "* Loyalty Programs for Top-Spending Customers:\n",
        "  * Offer exclusive discounts or loyalty programs to retain top-spending customers.\n",
        "* Improve Services in Low-Order Regions:\n",
        "  * Enhance marketing or services in regions with low order volumes to increase sales."
      ],
      "metadata": {
        "id": "MEu2LLDO57fu"
      }
    },
    {
      "cell_type": "markdown",
      "source": [
        "**3- What are the most common payment methods? Is there a relationship between payment method and order value?**"
      ],
      "metadata": {
        "id": "0mOexYDHCaNq"
      }
    },
    {
      "cell_type": "code",
      "source": [
        "common_payment_methods = merged_data['payment_type'].value_counts()\n",
        "payment_method_order_value = merged_data.groupby('payment_type')['payment_value'].mean()\n",
        "\n",
        "print(common_payment_methods)\n",
        "print(\"\\n\")\n",
        "print(payment_method_order_value)\n",
        "\n",
        "plt.figure(figsize=(12, 6))\n",
        "\n",
        "plt.subplot(1, 2, 1)\n",
        "ax = common_payment_methods.plot(kind='bar', color='skyblue')\n",
        "plt.title('Most Common Payment Method')\n",
        "plt.xlabel('Payment Method')\n",
        "plt.ylabel('Count of Orders')\n",
        "for i, value in enumerate(common_payment_methods):\n",
        "    ax.text(i, value + 50, str(value), ha='center')\n",
        "\n",
        "plt.subplot(1, 2, 2)\n",
        "ax = payment_method_order_value.plot(kind='bar', color='lightgreen')\n",
        "plt.title('Average Order Value By Payment Method')\n",
        "plt.xlabel('Payment Method')\n",
        "plt.ylabel('Average Order Value')\n",
        "for i, value in enumerate(payment_method_order_value):\n",
        "    ax.text(i, value + 1, f'{value:.2f}', ha='center')\n",
        "\n",
        "plt.tight_layout()\n",
        "plt.show()"
      ],
      "metadata": {
        "colab": {
          "base_uri": "https://localhost:8080/",
          "height": 885
        },
        "id": "cZZngtT6rwF5",
        "outputId": "ebd7a012-4952-473d-b4e6-2e72cee986f5"
      },
      "execution_count": 79,
      "outputs": [
        {
          "output_type": "stream",
          "name": "stdout",
          "text": [
            "payment_type\n",
            "credit_card    87784\n",
            "UPI            23190\n",
            "voucher         6465\n",
            "debit_card      1706\n",
            "not_defined        3\n",
            "Name: count, dtype: int64\n",
            "\n",
            "\n",
            "payment_type\n",
            "UPI            177.271270\n",
            "credit_card    179.724052\n",
            "debit_card     150.864531\n",
            "not_defined      0.000000\n",
            "voucher         67.427353\n",
            "Name: payment_value, dtype: float64\n"
          ]
        },
        {
          "output_type": "display_data",
          "data": {
            "text/plain": [
              "<Figure size 1200x600 with 2 Axes>"
            ],
            "image/png": "[encoded data removed]"
          },
          "metadata": {}
        }
      ]
    },
    {
      "cell_type": "markdown",
      "source": [
        "***Analytical Report: Payment Methods and Order Values***\n",
        "\n",
        "**1. Analytical Insight For The Most Common Payment Methods:**\n",
        "\n",
        "* Credit cards are the preferred method for customers, indicating their trust in this payment method, and it might mean that they're tended to favor installment services.\n",
        "* UPI is also highly popular, and it might be because of it's benefits in grouping all bank accounts in one application so making paying with it easier for customers.\n",
        "* Voucher and Debit Card are less commonly used and may require incentives to encourage their use (e.g., special offers).\n",
        "* Not Defined cases are rare and may need data review to understand why the payment method was not specified.\n",
        "\n",
        "**2. Average Order Value by Payment Method:**\n",
        "\n",
        "* UPI and Credit Card are associated with higher order values, indicating that customers using these methods tend to spend more and it might be related to leaning toward installments services.\n",
        "* Debit Card has a lower average order value, suggesting that customers using this method tend to spend less, and may be it's related to the idea of limited balance.\n",
        "* Voucher has the lowest average order value, likely used for smaller orders or promotional offers.\n",
        "* Not Defined contributes no value, emphasizing the need to review these cases.\n",
        "\n",
        "**3. Recommendations:**\n",
        "* Promote Credit Card and UPI Usage:\n",
        "  * Offer special discounts or rewards for customers using these methods to increase order values.\n",
        "  * Offer installment services so it can encourage more users to buy more -as users whose don't own credit cards-.\n",
        "  * Partnering with a bank to provide credit cards with issuance facilities to increase the number of credit card users for the e-commerce, reduce collection fees from credit cards from other banks, in addition to the possibility of adding discounts and ensuring user loyalty.\n",
        "  \n",
        "* Encourage Debit Card and Voucher Usage:\n",
        "  * Provide promotions to incentivize customers to use these methods and increase order values.\n",
        "  * Encourage content creators to promote the e-commerce and give them a percentage of the purchases made, for example, if there is a product worth $10 with the possibility of adding a 20% discount on the product, a 15% discount code is given to the content creator to promote the e-commerce and give him 5% of the product value, which encourages an increase in the number of users in general and voucher users in particular.\n",
        "\n",
        "* Review Not Defined Cases:\n",
        "  * Analyze these rare cases to understand why the payment method was not specified and address the issue."
      ],
      "metadata": {
        "id": "Xboty-2i8oGg"
      }
    },
    {
      "cell_type": "code",
      "source": [
        "product_name = pd.merge(order_items, products, on='product_id', how='inner')\n",
        "order_groups = product_name.groupby('order_id')['product_category_name'].apply(list)\n",
        "product_combinations = Counter()\n",
        "for order_products in order_groups:\n",
        "    combinations_list = list(combinations(order_products, 2))\n",
        "    product_combinations.update(combinations_list)\n",
        "top_10_cross_selling = product_combinations.most_common(10)\n",
        "print('Top 10 Cross-Selling Product Combinations:')\n",
        "print('')\n",
        "for combination, count in top_10_cross_selling:\n",
        "    product_1, product_2 = combination\n",
        "    print(f'{product_1} and {product_2}: {count} occurrences')"
      ],
      "metadata": {
        "colab": {
          "base_uri": "https://localhost:8080/"
        },
        "id": "rSJkWtIeyt5h",
        "outputId": "dc96dab9-9214-471c-aa14-a0c1a825990a"
      },
      "execution_count": 78,
      "outputs": [
        {
          "output_type": "stream",
          "name": "stdout",
          "text": [
            "Top 10 Cross-Selling Product Combinations:\n",
            "\n",
            "Furniture_Decor and Furniture_Decor: 3033 occurrences\n",
            "Bed_Bath_Table and Bed_Bath_Table: 2370 occurrences\n",
            "Housewares and Housewares: 2002 occurrences\n",
            "Computers_Accessories and Computers_Accessories: 1985 occurrences\n",
            "Garden_Tools and Garden_Tools: 1448 occurrences\n",
            "Health_Beauty and Health_Beauty: 1353 occurrences\n",
            "Sports_Leisure and Sports_Leisure: 1238 occurrences\n",
            "Office_Furniture and Office_Furniture: 825 occurrences\n",
            "Auto and Auto: 625 occurrences\n",
            "Telephony and Telephony: 593 occurrences\n"
          ]
        }
      ]
    },
    {
      "cell_type": "markdown",
      "source": [
        "***Analytical Report: Top 10 Cross-Selling Product Combinations***\n",
        "\n",
        "**Key Findings:**\n",
        "* **Furniture & Decor:** Most common combination *(3033 occurrences)*. Customers buying furniture often purchase decor items.\n",
        "* **Bed, Bath & Table:** Second most common *(2370 occurrences)*. Customers buying bath items also purchase tables.\n",
        "* **Housewares:** Frequent purchases within the same category *(2002 occurrences)*.\n",
        "* **Computers & Accessories:** Customers buying computers often add accessories *(1985 occurrences)*.\n",
        "* **Garden Tools:** Customers buying garden tools tend to purchase additional garden items *(1448 occurrences)*.\n",
        "* **Health & Beauty:** High cross-selling within the same category *(1353 occurrences)*.\n",
        "* **Sports & Leisure:** Customers buying sports/leisure products often buy more from the same category *(1238 occurrences)*.\n",
        "* **Office Furniture:** Frequent purchases within the same category *(825 occurrences)*.\n",
        "* **Auto:** Customers buying auto products often purchase additional auto items *(625 occurrences)*.\n",
        "* **Telephony:** High cross-selling within telephony products *(593 occurrences)*.\n",
        "\n",
        "**Recommendations:**\n",
        "* **Create Promotional Bundles:** Use the most common combinations to create promotional offers that bundle complementary products.\n",
        "* **Improve Product Recommendations:** Leverage the data to enhance recommendation algorithms on the website.\n",
        "* **Enhance Customer Experience:** Improve the shopping experience by displaying complementary products together on product pages.\n",
        "* **Deeper Analysis:** Conduct further analysis to understand the reasons behind these combinations and how to optimize them."
      ],
      "metadata": {
        "id": "kvqpQEm_bh8F"
      }
    }
  ]
}